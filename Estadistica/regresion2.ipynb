{
 "cells": [
  {
   "cell_type": "code",
   "execution_count": null,
   "metadata": {},
   "outputs": [],
   "source": []
  }
 ],
 "metadata": {
  "interpreter": {
   "hash": "1acef248555870a2f318ebb4ac91095f6286eabc862c86ca072fd2186a4967c9"
  },
  "kernelspec": {
   "display_name": "Python 3.10.4 ('Estadistica': venv)",
   "language": "python",
   "name": "python3"
  },
  "language_info": {
   "name": "python",
   "version": "3.10.4"
  },
  "orig_nbformat": 4
 },
 "nbformat": 4,
 "nbformat_minor": 2
}
